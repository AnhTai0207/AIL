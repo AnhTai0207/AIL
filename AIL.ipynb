{
 "cells": [
  {
   "cell_type": "code",
   "execution_count": 1,
   "metadata": {},
   "outputs": [],
   "source": [
    "import pandas as pd\n",
    "import matplotlib.pyplot as plt\n",
    "import numpy as np\n",
    "import seaborn as sns\n",
    "from sklearn.model_selection import train_test_split\n",
    "from sklearn.metrics import f1_score\n",
    "from sklearn.cluster import KMeans\n",
    "from imblearn.over_sampling import SMOTE\n"
   ]
  },
  {
   "cell_type": "code",
   "execution_count": 2,
   "metadata": {},
   "outputs": [
    {
     "name": "stdout",
     "output_type": "stream",
     "text": [
      "     Unnamed: 0     video id  Question 2: Sound (1-5)  \\\n",
      "0             0  mSg4AmqvT0I                        4   \n",
      "1             1  Lol8sqRfQYE                        3   \n",
      "2             2  kwwGvRUyIG8                        4   \n",
      "3             3  52alUCchcBw                        2   \n",
      "4             4  iDCC0SEHDY8                        3   \n",
      "..          ...          ...                      ...   \n",
      "130         130  Yr9Z19ZWMfg                        4   \n",
      "131         131  umhYUSmtkIw                        3   \n",
      "132         132  7JsskyOhp0I                        4   \n",
      "133         133  usrgPQ74WVA                        3   \n",
      "134         134  eZCiJihCPUE                        5   \n",
      "\n",
      "     Question 2.1: Music (1-5)  Question 2.2 : Noise control (1-5)  \\\n",
      "0                            4                                   3   \n",
      "1                            3                                   1   \n",
      "2                            4                                   2   \n",
      "3                            2                                   1   \n",
      "4                            3                                   2   \n",
      "..                         ...                                 ...   \n",
      "130                          3                                   3   \n",
      "131                          3                                   3   \n",
      "132                          4                                   2   \n",
      "133                          3                                   3   \n",
      "134                          5                                   4   \n",
      "\n",
      "     Question 2.3 : Speaking Style (1-5)  Question 3: Camera (1-5)  \\\n",
      "0                                      4                         4   \n",
      "1                                      3                         3   \n",
      "2                                      3                         4   \n",
      "3                                      3                         3   \n",
      "4                                      3                         3   \n",
      "..                                   ...                       ...   \n",
      "130                                    4                         4   \n",
      "131                                    3                         3   \n",
      "132                                    4                         4   \n",
      "133                                    3                         3   \n",
      "134                                    5                         5   \n",
      "\n",
      "     Question 3.1: Stable (1-5)  Question 3.2: Angel diversity (0-1)  \\\n",
      "0                             4                                    1   \n",
      "1                             2                                    3   \n",
      "2                             4                                    1   \n",
      "3                             4                                    1   \n",
      "4                             4                                    0   \n",
      "..                          ...                                  ...   \n",
      "130                           3                                    1   \n",
      "131                           4                                    1   \n",
      "132                           4                                    1   \n",
      "133                           3                                    1   \n",
      "134                           5                                    1   \n",
      "\n",
      "     Question 4: Images (1-5)  Question 4.1: Resolution (1-5)  \\\n",
      "0                           5                               4   \n",
      "1                           3                               3   \n",
      "2                           4                               5   \n",
      "3                           2                               4   \n",
      "4                           3                               4   \n",
      "..                        ...                             ...   \n",
      "130                         4                               4   \n",
      "131                         3                               4   \n",
      "132                         4                               4   \n",
      "133                         4                               4   \n",
      "134                         4                               4   \n",
      "\n",
      "     Question 4.2: Color (1-5)  Question 5: Content (1-5)  \\\n",
      "0                            5                          4   \n",
      "1                            3                          3   \n",
      "2                            4                          4   \n",
      "3                            1                          3   \n",
      "4                            2                          3   \n",
      "..                         ...                        ...   \n",
      "130                          4                          4   \n",
      "131                          3                          3   \n",
      "132                          4                          4   \n",
      "133                          4                          2   \n",
      "134                          4                          5   \n",
      "\n",
      "     Question 5.1: Introduction (0-1)  Question 5.2: Food description (0-1)  \\\n",
      "0                                   1                                     1   \n",
      "1                                   1                                     1   \n",
      "2                                   1                                     1   \n",
      "3                                   1                                     0   \n",
      "4                                   1                                     0   \n",
      "..                                ...                                   ...   \n",
      "130                                 1                                     1   \n",
      "131                                 1                                     1   \n",
      "132                                 1                                     1   \n",
      "133                                 1                                     1   \n",
      "134                                 1                                     1   \n",
      "\n",
      "     Question 6: Reviewer (1-5)  \\\n",
      "0                             3   \n",
      "1                             3   \n",
      "2                             4   \n",
      "3                             2   \n",
      "4                             3   \n",
      "..                          ...   \n",
      "130                           4   \n",
      "131                           3   \n",
      "132                           4   \n",
      "133                           4   \n",
      "134                           5   \n",
      "\n",
      "     Question 6.1: Reviewer emotion is negative - neutral - positive (1-3)  \\\n",
      "0                                                    2                       \n",
      "1                                                    3                       \n",
      "2                                                    3                       \n",
      "3                                                    2                       \n",
      "4                                                    2                       \n",
      "..                                                 ...                       \n",
      "130                                                  3                       \n",
      "131                                                  2                       \n",
      "132                                                  3                       \n",
      "133                                                  2                       \n",
      "134                                                  3                       \n",
      "\n",
      "     Question 6.2: Recommendation (0-1)  \\\n",
      "0                                     0   \n",
      "1                                     1   \n",
      "2                                     1   \n",
      "3                                     0   \n",
      "4                                     0   \n",
      "..                                  ...   \n",
      "130                                   1   \n",
      "131                                   0   \n",
      "132                                   1   \n",
      "133                                   0   \n",
      "134                                   1   \n",
      "\n",
      "     Question 6.3: Clear information (0-1)  Attractive Level (1-5)  \n",
      "0                                        1                       3  \n",
      "1                                        1                       2  \n",
      "2                                        1                       4  \n",
      "3                                        1                       2  \n",
      "4                                        0                       2  \n",
      "..                                     ...                     ...  \n",
      "130                                      1                       4  \n",
      "131                                      1                       3  \n",
      "132                                      1                       4  \n",
      "133                                      1                       2  \n",
      "134                                      1                       4  \n",
      "\n",
      "[135 rows x 20 columns]\n"
     ]
    }
   ],
   "source": [
    "df = pd.read_excel(r'D:\\Project\\New folder (2)\\AIP391_Group1_StreetFood\\AIP391_Group1_StreetFood\\Data\\mean_data.xlsx')\n",
    "print(df)"
   ]
  },
  {
   "cell_type": "code",
   "execution_count": 3,
   "metadata": {},
   "outputs": [
    {
     "data": {
      "text/plain": [
       "<AxesSubplot: xlabel='Attractive Level (1-5)', ylabel='Count'>"
      ]
     },
     "execution_count": 3,
     "metadata": {},
     "output_type": "execute_result"
    },
    {
     "data": {
      "image/png": "[encoded data removed]",
      "text/plain": [
       "<Figure size 640x480 with 1 Axes>"
      ]
     },
     "metadata": {},
     "output_type": "display_data"
    }
   ],
   "source": [
    "sns.histplot(df['Attractive Level (1-5)'], bins=[0.5,1.5,2.5,3.5,4.5,5.5])"
   ]
  },
  {
   "cell_type": "code",
   "execution_count": 4,
   "metadata": {},
   "outputs": [],
   "source": [
    "columns = [\n",
    "       'Question 2: Sound (1-5)', 'Question 2.1: Music (1-5)',\n",
    "       'Question 2.2 : Noise control (1-5)',\n",
    "       'Question 2.3 : Speaking Style (1-5)', 'Question 3: Camera (1-5)',\n",
    "       'Question 3.1: Stable (1-5)', 'Question 3.2: Angel diversity (0-1)',\n",
    "       'Question 4: Images (1-5)', 'Question 4.1: Resolution (1-5)',\n",
    "       'Question 4.2: Color (1-5)', 'Question 5: Content (1-5)',\n",
    "       'Question 5.1: Introduction (0-1)',\n",
    "       'Question 5.2: Food description (0-1)', 'Question 6: Reviewer (1-5)',\n",
    "       'Question 6.1: Reviewer emotion is negative - neutral - positive (1-3)',\n",
    "       'Question 6.2: Recommendation (0-1)',\n",
    "       'Question 6.3: Clear information (0-1)']\n",
    "core_columns = [\n",
    "       'Question 2: Sound (1-5)','Question 3: Camera (1-5)',\n",
    "       'Question 4: Images (1-5)', 'Question 5: Content (1-5)',\n",
    "       'Question 6: Reviewer (1-5)',]\n",
    "output_column = 'Attractive Level (1-5)'"
   ]
  },
  {
   "cell_type": "code",
   "execution_count": 15,
   "metadata": {},
   "outputs": [],
   "source": [
    "oversample = SMOTE(k_neighbors=2, random_state=0)\n",
    "X, y = oversample.fit_resample(df[core_columns][:], df[output_column][:])\n",
    "# \\X, y = pf[core_columns][:], pf[output_column][:]\n"
   ]
  },
  {
   "cell_type": "code",
   "execution_count": 17,
   "metadata": {},
   "outputs": [],
   "source": [
    "X_train, X_test, y_train, y_test = train_test_split(X, y, test_size=0.2, shuffle=True)"
   ]
  },
  {
   "cell_type": "code",
   "execution_count": null,
   "metadata": {},
   "outputs": [],
   "source": [
    "X_train, X_test, y_train, y_test = train_test_split(df[columns][:], df[output_column][:], test_size=0.2, shuffle=True)\n",
    "print(X_train.shape)\n",
    "print(X_test.shape)"
   ]
  },
  {
   "cell_type": "markdown",
   "metadata": {},
   "source": [
    "Linear Regression"
   ]
  },
  {
   "cell_type": "code",
   "execution_count": null,
   "metadata": {},
   "outputs": [],
   "source": [
    "from sklearn.linear_model import LinearRegression\n",
    "\n",
    "clf = LinearRegression()\n",
    "clf.fit(X_train, y_train)\n",
    "print('Linear Regression:')\n",
    "result = clf.predict(X_train).round()\n",
    "\n",
    "\n",
    "print('train accuracy: ', f1_score(result, y_train, average='macro'))\n",
    "\n",
    "result = clf.predict(X_test).round()\n",
    "\n",
    "print('test accuracy: ', f1_score(result, y_test, average='macro'))"
   ]
  },
  {
   "cell_type": "code",
   "execution_count": 18,
   "metadata": {},
   "outputs": [
    {
     "name": "stdout",
     "output_type": "stream",
     "text": [
      "Multilayer Perceptron:\n",
      "train accuracy:  0.9047490765231714\n",
      "test accuracy:  0.7805555555555556\n"
     ]
    }
   ],
   "source": [
    "from sklearn.neural_network import MLPClassifier\n",
    "clf = MLPClassifier(random_state=1, max_iter=10000, hidden_layer_sizes=(500))\n",
    "clf.fit(X_train, y_train)\n",
    "print('Multilayer Perceptron:')\n",
    "\n",
    "print('train accuracy: ',f1_score(clf.predict(X_train), y_train, average='macro'))\n",
    "print('test accuracy: ',f1_score(clf.predict(X_test), y_test, average='macro'))"
   ]
  },
  {
   "cell_type": "code",
   "execution_count": null,
   "metadata": {},
   "outputs": [],
   "source": [
    "df['Attractive Level (1-5)'] = df['Attractive Level (1-5)'].replace([1,2],0)\n",
    "df['Attractive Level (1-5)'] = df['Attractive Level (1-5)'].replace([3,4,5],1)"
   ]
  },
  {
   "cell_type": "code",
   "execution_count": null,
   "metadata": {},
   "outputs": [],
   "source": [
    "X_train, X_test, y_train, y_test = train_test_split(df[columns][:], df[output_column][:], test_size=0.2, shuffle=True)\n",
    "print(X_train.shape)\n",
    "print(X_test.shape)"
   ]
  },
  {
   "cell_type": "markdown",
   "metadata": {},
   "source": [
    "Logistic Regression"
   ]
  },
  {
   "cell_type": "code",
   "execution_count": null,
   "metadata": {},
   "outputs": [],
   "source": [
    "from sklearn.linear_model import LogisticRegression\n",
    "\n",
    "logreg = LogisticRegression(random_state=16)\n",
    "logreg.fit(X_train, y_train)\n",
    "print('Logistic Regression:')\n",
    "\n",
    "print('train accuracy: ',f1_score(logreg.predict(X_train), y_train, average='macro'))\n",
    "print('test accuracy: ',f1_score(logreg.predict(X_test), y_test, average='macro'))"
   ]
  },
  {
   "cell_type": "code",
   "execution_count": null,
   "metadata": {},
   "outputs": [],
   "source": [
    "distortions = []\n",
    "K = range(1,10)\n",
    "for k in K:\n",
    "    kmeanModel = KMeans(n_clusters=k)\n",
    "    kmeanModel.fit(X)\n",
    "    distortions.append(kmeanModel.inertia_)\n",
    "plt.figure(figsize=(16,8))\n",
    "plt.plot(K, distortions, 'bx-')\n",
    "plt.xlabel('k')\n",
    "plt.ylabel('Distortion')\n",
    "plt.title('The Elbow Method showing the optimal k')\n",
    "plt.show()"
   ]
  },
  {
   "cell_type": "code",
   "execution_count": 19,
   "metadata": {},
   "outputs": [],
   "source": [
    "X = df['Question 6: Reviewer (1-5)'].to_numpy().reshape(-1, 1)"
   ]
  },
  {
   "cell_type": "code",
   "execution_count": 20,
   "metadata": {},
   "outputs": [
    {
     "name": "stdout",
     "output_type": "stream",
     "text": [
      "Center 1: 57\n",
      "2 kwwGvRUyIG8 4\n",
      "5 QXGyszq4pic 3\n",
      "8 mfXlFpnduoA 4\n",
      "10 TFGgOwCBP3g 4\n",
      "12 Y6TRwhPSYz4 4\n",
      "Center 2: 51\n",
      "0 mSg4AmqvT0I 3\n",
      "1 Lol8sqRfQYE 2\n",
      "4 iDCC0SEHDY8 2\n",
      "6 w8f4mRCLrdU 4\n",
      "7 r1BzB2-Cx7k 3\n",
      "Center 3: 27\n",
      "3 52alUCchcBw 2\n",
      "9 ncoqtS2FYW8 2\n",
      "15 8yBn-c8__Tk 2\n",
      "24 3qfTtx3yG5U 3\n",
      "28 nruK2pDiAEA 3\n"
     ]
    }
   ],
   "source": [
    "\n",
    "center1 = []\n",
    "center2 = []\n",
    "center3 = []\n",
    "cout_center1 = 0\n",
    "cout_center2 = 0\n",
    "cout_center3 = 0\n",
    "kmeans = KMeans(n_clusters=3, random_state=0).fit(X)\n",
    "\n",
    "pred_label = kmeans.predict(X)\n",
    "\n",
    "\n",
    "\n",
    "for i in range(len(pred_label)):\n",
    "    if pred_label[i] == 0:\n",
    "        cout_center1 += 1\n",
    "        center1.append(\"%s %s %s\"%(i, str(df.loc[i,'video id']),str(df.loc[i,'Attractive Level (1-5)'])))\n",
    "    elif pred_label[i] == 1:\n",
    "        cout_center2 += 1\n",
    "        center2.append(\"%s %s %s\"%(i, str(df.loc[i,'video id']),str(df.loc[i,'Attractive Level (1-5)'])))\n",
    "    else:\n",
    "        cout_center3 += 1\n",
    "        center3.append(\"%s %s %s\"%(i, str(df.loc[i,'video id']),str(df.loc[i,'Attractive Level (1-5)'])))\n",
    "print(\"Center 1: %s\"%(cout_center1))\n",
    "for i in range(5):\n",
    "    print(center1[i])\n",
    "print(\"Center 2: %s\"%(cout_center2))\n",
    "for i in range(5):\n",
    "    print(center2[i])\n",
    "print(\"Center 3: %s\"%(cout_center3))\n",
    "for i in range(5):\n",
    "    print(center3[i])\n",
    "\n"
   ]
  },
  {
   "cell_type": "code",
   "execution_count": 21,
   "metadata": {},
   "outputs": [],
   "source": [
    "X = df[columns][:]"
   ]
  },
  {
   "cell_type": "code",
   "execution_count": 22,
   "metadata": {},
   "outputs": [
    {
     "name": "stdout",
     "output_type": "stream",
     "text": [
      "Center 1: 35\n",
      "0 mSg4AmqvT0I 3\n",
      "10 TFGgOwCBP3g 4\n",
      "12 Y6TRwhPSYz4 4\n",
      "16 l5H6jl_g2XE 5\n",
      "19 YrMdSvixbGk 4\n",
      "Center 2: 39\n",
      "3 52alUCchcBw 2\n",
      "4 iDCC0SEHDY8 2\n",
      "9 ncoqtS2FYW8 2\n",
      "13 FqZqiSKpQVo 3\n",
      "15 8yBn-c8__Tk 2\n",
      "Center 3: 61\n",
      "1 Lol8sqRfQYE 2\n",
      "2 kwwGvRUyIG8 4\n",
      "5 QXGyszq4pic 3\n",
      "6 w8f4mRCLrdU 4\n",
      "7 r1BzB2-Cx7k 3\n"
     ]
    }
   ],
   "source": [
    "center1 = []\n",
    "center2 = []\n",
    "center3 = []\n",
    "cout_center1 = 0\n",
    "cout_center2 = 0\n",
    "cout_center3 = 0\n",
    "kmeans = KMeans(n_clusters=3, random_state=0).fit(X)\n",
    "\n",
    "pred_label = kmeans.predict(X)\n",
    "\n",
    "\n",
    "\n",
    "for i in range(len(pred_label)):\n",
    "    if pred_label[i] == 0:\n",
    "        cout_center1 += 1\n",
    "        center1.append(\"%s %s %s\"%(i, str(df.loc[i,'video id']),str(df.loc[i,'Attractive Level (1-5)'])))\n",
    "    elif pred_label[i] == 1:\n",
    "        cout_center2 += 1\n",
    "        center2.append(\"%s %s %s\"%(i, str(df.loc[i,'video id']),str(df.loc[i,'Attractive Level (1-5)'])))\n",
    "    else:\n",
    "        cout_center3 += 1\n",
    "        center3.append(\"%s %s %s\"%(i, str(df.loc[i,'video id']),str(df.loc[i,'Attractive Level (1-5)'])))\n",
    "print(\"Center 1: %s\"%(cout_center1))\n",
    "for i in range(5):\n",
    "    print(center1[i])\n",
    "print(\"Center 2: %s\"%(cout_center2))\n",
    "for i in range(5):\n",
    "    print(center2[i])\n",
    "print(\"Center 3: %s\"%(cout_center3))\n",
    "for i in range(5):\n",
    "    print(center3[i])"
   ]
  },
  {
   "cell_type": "code",
   "execution_count": 30,
   "metadata": {},
   "outputs": [
    {
     "name": "stdout",
     "output_type": "stream",
     "text": [
      "Center 1: 77\n",
      "1 Lol8sqRfQYE 2\n",
      "3 52alUCchcBw 2\n",
      "4 iDCC0SEHDY8 2\n",
      "5 QXGyszq4pic 3\n",
      "7 r1BzB2-Cx7k 3\n",
      "8 mfXlFpnduoA 4\n",
      "9 ncoqtS2FYW8 2\n",
      "13 FqZqiSKpQVo 3\n",
      "15 8yBn-c8__Tk 2\n",
      "20 DceuZyI6rHk 3\n",
      "21 8-2XcUzHtIo 3\n",
      "23 JG_LLt3QYbs 3\n",
      "24 3qfTtx3yG5U 3\n",
      "27 G9uP3B8nDzY 3\n",
      "28 nruK2pDiAEA 3\n",
      "29 EFbxgnqqblE 3\n",
      "31 U3OwOM-4DaU 2\n",
      "32 eZyK0ED21vI 2\n",
      "33 A-3OFecUdqs 3\n",
      "36 Ar53XryS4OQ 2\n",
      "37 dEuQ2SqmxqA 2\n",
      "38 ygmhxCyUfBk 2\n",
      "40 TCTpiQLZxrI 3\n",
      "42 z5j8rKWPCcU 3\n",
      "44 IESQ3POtkx0 3\n",
      "45 TfP3TSml0E4 2\n",
      "46 tQ-sZLeix8w 2\n",
      "47 gCVnzXm09Jo 3\n",
      "49 T4lSN47hwA4 1\n",
      "50 NgX99Cljm0c 4\n",
      "Center 2: 58\n",
      "0 mSg4AmqvT0I 3\n",
      "2 kwwGvRUyIG8 4\n",
      "6 w8f4mRCLrdU 4\n",
      "10 TFGgOwCBP3g 4\n",
      "11 rSTBg8w7F8I 3\n",
      "12 Y6TRwhPSYz4 4\n",
      "14 RhJ7Cp7_ojU 4\n",
      "16 l5H6jl_g2XE 5\n",
      "17 1iSLzc0hF6g 4\n",
      "18 pxBL4T2Qpzw 4\n",
      "19 YrMdSvixbGk 4\n",
      "22 iljkdsw4JfA 5\n",
      "25 fU6UZtcvlYM 3\n",
      "26 GL3mfWvsF24 5\n",
      "30 PUnKvRTvAjc 4\n",
      "34 6x9TT-C2Ygs 4\n",
      "35 TvnavJ5QJC4 4\n",
      "39 RJyyho7bfkg 5\n",
      "41 2mYcsM05lDk 5\n",
      "43 Zvk06Y6E7Rk 3\n",
      "48 je9PmQhyHDk 4\n",
      "55 uK2-dN0UqLY 4\n",
      "58 H4F0wPu0Bzg 4\n",
      "60 j-USg2l-Akc 5\n",
      "61 SA-Nq84Cmok 4\n",
      "62 YVU73shWxH0 5\n",
      "64 pCh4iq0kj3g 4\n",
      "67 Ay8xR5JwgTE 4\n",
      "68 eFiSFxOM75Q 4\n",
      "74 9vqIcs-fPug 4\n"
     ]
    }
   ],
   "source": [
    "center1 = []\n",
    "center2 = []\n",
    "cout_center1 = 0\n",
    "cout_center2 = 0\n",
    "kmeans = KMeans(n_clusters=2, random_state=0).fit(X)\n",
    "\n",
    "pred_label = kmeans.predict(X)\n",
    "\n",
    "\n",
    "\n",
    "for i in range(len(pred_label)):\n",
    "    if pred_label[i] == 0:\n",
    "        cout_center1 += 1\n",
    "        center1.append(\"%s %s %s\"%(i, str(df.loc[i,'video id']),str(df.loc[i,'Attractive Level (1-5)'])))\n",
    "    elif pred_label[i] == 1:\n",
    "        cout_center2 += 1\n",
    "        center2.append(\"%s %s %s\"%(i, str(df.loc[i,'video id']),str(df.loc[i,'Attractive Level (1-5)'])))\n",
    "print(\"Center 1: %s\"%(cout_center1))\n",
    "for i in range(30):\n",
    "    print(center1[i])\n",
    "print(\"Center 2: %s\"%(cout_center2))\n",
    "for i in range(30):\n",
    "    print(center2[i])"
   ]
  }
 ],
 "metadata": {
  "kernelspec": {
   "display_name": "Python 3.10.8 64-bit (microsoft store)",
   "language": "python",
   "name": "python3"
  },
  "language_info": {
   "codemirror_mode": {
    "name": "ipython",
    "version": 3
   },
   "file_extension": ".py",
   "mimetype": "text/x-python",
   "name": "python",
   "nbconvert_exporter": "python",
   "pygments_lexer": "ipython3",
   "version": "3.10.8"
  },
  "orig_nbformat": 4,
  "vscode": {
   "interpreter": {
    "hash": "8bf0d51478355d2251941b3b98616086516a0eddd7c72ee47a3371765770709a"
   }
  }
 },
 "nbformat": 4,
 "nbformat_minor": 2
}
